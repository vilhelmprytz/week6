{
 "cells": [
  {
   "cell_type": "markdown",
   "id": "hybrid-demand",
   "metadata": {},
   "source": [
    "# Eiffeltornet\n",
    "\n",
    "![eiffeltornet](https://pixfeeds.com/images/france/travel/1280-466478690-eiffel-tower-at-winter.jpg)\n",
    "\n",
    "<br>\n",
    "\n",
    "*Vad skulle man kunna ställa för frågor till den här bilden?*\n",
    "\n",
    "**Hur högt är eiffeltornet?**\n",
    "**Vad har eiffeltornet för massa?**\n",
    "**Vad kostar det att bygga ett eiffeltorn?**\n",
    "\n",
    "<div style=\"height:100px\" />\n"
   ]
  },
  {
   "cell_type": "markdown",
   "id": "painful-display",
   "metadata": {},
   "source": [
    "# Övning 1\n",
    "\n",
    "**Fråga: <mark>Vad skulle det kosta i elräkning att hissa upp en bil till Eiffeltornets topp?</mark>**\n",
    "\n",
    "<img src=\"https://history.vattenfall.com/sites/default/files/styles/articlefeaturedmedia/public/VF000208.jpg\" width=\"400\" style=\"float:right\" />\n",
    "\n",
    "1. Gissning\n",
    "2. Uppskattning\n",
    "3. Beräkning\n"
   ]
  },
  {
   "cell_type": "code",
   "execution_count": 9,
   "id": "deadly-louis",
   "metadata": {},
   "outputs": [
    {
     "name": "stdout",
     "output_type": "stream",
     "text": [
      "Energi som krävs för att lyfta upp bilen: 4772520.0 J eller 1.3257 kwh\n",
      "Eftersom elpriset är 1.6 per kwh kommer det kosta 2.1211200000000003 kr\n"
     ]
    }
   ],
   "source": [
    "# jag tror du har inkluderat någon bild för en elräkningen men den är inte med för mig\n",
    "# det är 404 på den bilden : (\n",
    "\n",
    "car_weight = 1500 # kg\n",
    "height = 324 # m, källa https://www.so-rummet.se/fakta-artiklar/latta-fakta-om-eiffeltornet\n",
    "g = 9.82 # tyngdaccelerationen\n",
    "\n",
    "# eftersom eiffeltornet är i Paris är 1,6 kr per kwh genomsnitt för Frankrike\n",
    "# enligt denna källa: https://en.selectra.info/energy-france/guides/electricity/tariffs\n",
    "electricity_price = 1.6 # sek/kwh\n",
    "\n",
    "# konvertera joule till kwh\n",
    "def convert_joule_kwh(E):\n",
    "    return E/3600000\n",
    "\n",
    "# energi i Joule som krävs för att lyfta bilen upp till Eiffeltornets topp\n",
    "# E_p = m * g * h\n",
    "E = car_weight * g * height\n",
    "E_kwh = convert_joule_kwh(E)\n",
    "\n",
    "print(f\"Energi som krävs för att lyfta upp bilen: {E} J eller {E_kwh} kwh\")\n",
    "print(f\"Eftersom elpriset är {electricity_price} per kwh kommer det kosta {electricity_price * E_kwh} kr\")"
   ]
  },
  {
   "cell_type": "markdown",
   "id": "nutritional-local",
   "metadata": {},
   "source": [
    "# Övning 2\n",
    "\n",
    "**Fråga: <mark>Ungefär hur lång tid skulle det ta att hissa upp den för hand, med mänsklig kraft? För dig?</mark>**\n",
    "\n",
    "<img src=\"http://www.agrc.umd.edu/gamera/gamera2/images/human-power1.png\" />\n"
   ]
  },
  {
   "cell_type": "code",
   "execution_count": 20,
   "id": "framed-success",
   "metadata": {},
   "outputs": [
    {
     "name": "stdout",
     "output_type": "stream",
     "text": [
      "Tid det tar för en människa som utvecklar 100 W att lyfta bilen är 47725.2 sekunder\n",
      "Eller 13 timmar 13 min, 25.19999999999709 sekunder\n"
     ]
    }
   ],
   "source": [
    "from math import floor\n",
    "\n",
    "# hur mycket effekt en människa max kan utveckla\n",
    "power = 100 # W eller J/s, enligt källa https://www.ingenjoren.se/2013/02/08/rakna-med-dyrare-slavar/\n",
    "\n",
    "# från föregående uppgift har vi variabeln E som anger hur mycket energi som krävs för att lyfta bilen\n",
    "# P = E/t => t = E/P\n",
    "time = E/power # sekunder\n",
    "\n",
    "print(f\"Tid det tar för en människa som utvecklar {power} W att lyfta bilen är {time} sekunder\")\n",
    "print(f\"Eller {floor(time/60/60)} timmar {floor(time/60/60 % 3600)} min, {time % 60} sekunder\")\n"
   ]
  },
  {
   "cell_type": "markdown",
   "id": "cosmetic-publicity",
   "metadata": {},
   "source": [
    "<div style=\"height:300px\" />"
   ]
  },
  {
   "cell_type": "markdown",
   "id": "complimentary-tyler",
   "metadata": {},
   "source": [
    "# Övning 3\n",
    "\n",
    "**Fråga: <mark>Hur många varv måste du veva?</mark>**\n",
    "\n",
    "<img src=\"http://www.agrc.umd.edu/gamera/gamera2/images/human-power1.png\" />\n"
   ]
  },
  {
   "cell_type": "code",
   "execution_count": null,
   "id": "silent-piece",
   "metadata": {},
   "outputs": [],
   "source": []
  }
 ],
 "metadata": {
  "kernelspec": {
   "display_name": "Python 3",
   "language": "python",
   "name": "python3"
  },
  "language_info": {
   "codemirror_mode": {
    "name": "ipython",
    "version": 3
   },
   "file_extension": ".py",
   "mimetype": "text/x-python",
   "name": "python",
   "nbconvert_exporter": "python",
   "pygments_lexer": "ipython3",
   "version": "3.9.1"
  }
 },
 "nbformat": 4,
 "nbformat_minor": 5
}
